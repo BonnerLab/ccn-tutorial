{
 "cells": [
  {
   "cell_type": "markdown",
   "id": "a917c1046bea521069df35240c97c768f9648491-0",
   "metadata": {},
   "source": [
    "# Aligning deep neural networks\n",
    "\n",
    "Using shared covariance statistics to functionally align networks\n",
    "\n",
    "TODO"
   ]
  }
 ],
 "metadata": {
  "kernelspec": {
   "display_name": "Python 3",
   "language": "python",
   "name": "python3"
  }
 },
 "nbformat": 4,
 "nbformat_minor": 5
}
