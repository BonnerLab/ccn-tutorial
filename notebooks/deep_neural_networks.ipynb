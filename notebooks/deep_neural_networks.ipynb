{
 "cells": [
  {
   "cell_type": "markdown",
   "id": "db37518a778f3c40b84ba101d89cc4001116602d-0",
   "metadata": {},
   "source": [
    "# Deep neural networks\n",
    "\n",
    "Aligning deep networks using their covariance statistics\n",
    "\n",
    "TODO"
   ]
  }
 ],
 "metadata": {
  "kernelspec": {
   "display_name": "Python 3",
   "language": "python",
   "name": "python3"
  }
 },
 "nbformat": 4,
 "nbformat_minor": 5
}
