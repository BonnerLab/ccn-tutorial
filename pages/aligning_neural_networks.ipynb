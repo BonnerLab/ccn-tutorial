{
  "cells": [
    {
      "cell_type": "markdown",
      "metadata": {},
      "source": [
        "# Aligning deep neural networks\n",
        "\n",
        "Using shared covariance statistics to functionally align networks\n",
        "\n",
        "TODO"
      ],
      "id": "fb0bbe39-1052-4054-bb0a-d889c0e0cca6"
    }
  ],
  "nbformat": 4,
  "nbformat_minor": 5,
  "metadata": {
    "kernelspec": {
      "display_name": "Python 3",
      "language": "python",
      "name": "python3"
    }
  }
}