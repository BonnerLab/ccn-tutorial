{
  "cells": [
    {
      "cell_type": "markdown",
      "metadata": {},
      "source": [
        "# Aligning deep neural networks\n",
        "\n",
        "Using shared covariance statistics to functionally align networks\n",
        "\n",
        "TODO"
      ],
      "id": "def7edcf-1cd5-4d2e-b995-e140f20c0cd2"
    }
  ],
  "nbformat": 4,
  "nbformat_minor": 5,
  "metadata": {
    "kernelspec": {
      "display_name": "Python 3",
      "language": "python",
      "name": "python3"
    }
  }
}