{
  "cells": [
    {
      "cell_type": "markdown",
      "metadata": {},
      "source": [
        "# Aligning deep neural networks\n",
        "\n",
        "Using shared covariance statistics to functionally align networks\n",
        "\n",
        "TODO"
      ],
      "id": "d3ffcaee-5bf3-4df3-86df-b7cf7bf6769e"
    }
  ],
  "nbformat": 4,
  "nbformat_minor": 5,
  "metadata": {
    "kernelspec": {
      "display_name": "Python 3",
      "language": "python",
      "name": "python3"
    }
  }
}