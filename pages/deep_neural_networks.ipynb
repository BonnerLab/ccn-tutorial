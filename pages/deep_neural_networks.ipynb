{
  "cells": [
    {
      "cell_type": "markdown",
      "metadata": {},
      "source": [
        "# Deep neural networks\n",
        "\n",
        "Aligning deep networks using their covariance statistics\n",
        "\n",
        "TODO"
      ],
      "id": "6d8975c7-8d34-4b86-852a-1baf22e64bc9"
    }
  ],
  "nbformat": 4,
  "nbformat_minor": 5,
  "metadata": {
    "kernelspec": {
      "display_name": "Python 3",
      "language": "python",
      "name": "python3"
    }
  }
}