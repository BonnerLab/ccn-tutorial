{
  "cells": [
    {
      "cell_type": "markdown",
      "metadata": {},
      "source": [
        "# Deep neural networks\n",
        "\n",
        "Aligning deep networks using their covariance statistics\n",
        "\n",
        "TODO"
      ],
      "id": "84b684ea-b61a-42e3-9332-6a45365909a4"
    }
  ],
  "nbformat": 4,
  "nbformat_minor": 5,
  "metadata": {
    "kernelspec": {
      "display_name": "Python 3",
      "language": "python",
      "name": "python3"
    }
  }
}