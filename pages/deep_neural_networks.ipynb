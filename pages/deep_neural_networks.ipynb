{
  "cells": [
    {
      "cell_type": "markdown",
      "metadata": {},
      "source": [
        "# Deep neural networks\n",
        "\n",
        "Aligning deep networks using their covariance statistics\n",
        "\n",
        "TODO"
      ],
      "id": "76f1d4ef-d5c5-4d3f-864a-9eca09fe7047"
    }
  ],
  "nbformat": 4,
  "nbformat_minor": 5,
  "metadata": {
    "kernelspec": {
      "display_name": "Python 3",
      "language": "python",
      "name": "python3"
    }
  }
}